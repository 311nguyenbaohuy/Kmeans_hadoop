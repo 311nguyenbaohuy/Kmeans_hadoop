{
 "cells": [
  {
   "cell_type": "code",
   "execution_count": 1,
   "metadata": {},
   "outputs": [],
   "source": [
    "import random\n",
    "import numpy\n",
    "\n",
    "from pyspark import SparkContext\n",
    "from pyspark.mllib.random import RandomRDDs\n",
    "\n",
    "# constants\n",
    "MIN_MEAN_VALUE = 0\n",
    "MAX_MEAN_VALUE = 100\n",
    "STEPS = 0.1\n",
    "\n",
    "# methods\n",
    "def point_values(means_value, normal_value, std, cluster, dimension):\n",
    "    values = \"\"\n",
    "    for d in range(dimension):\n",
    "        value = means_value[d] + normal_value[d] * std\n",
    "        if not values:\n",
    "            values = str(value)\n",
    "        else:\n",
    "            values = values + \",\" + str(value)\n",
    "    return (values + \",\" + str(cluster))\n",
    "\n",
    "def write_into_csv(file_name, rdd): \n",
    "    with open(file_name,'wb') as file:\n",
    "        for row in rdd.collect():\n",
    "            file.write(row)\n",
    "            file.write('\\n')\n",
    "\n",
    "# main code\n",
    " \n",
    "# inputs\n",
    "file_name = 'out' + '.csv'  # file name to be generated\n",
    "points = 9 # number of points to be generated\n",
    "count_cluster = 3 # number of clusters\n",
    "dimension = 2 # dimension of the data\n",
    "std = 1 # standard deviation\n",
    "noise_points = points * 2 # number of noise points to be generated / double the number of points\n",
    "\n",
    "sc = SparkContext(\"local\", \"generator\") # spark context\n",
    "\n",
    "# array of the clusters : clusters = [0, 1, 2]\n",
    "clusters = sc.parallelize(range(0, count_cluster))\n",
    "\n",
    "# random means of each cluster : means_cluster = [ (0, [0.6, 80.9]), (1, [57.8, 20.2]), (2, [15.6, 49.9]) ]\n",
    "lst = list(numpy.arange(MIN_MEAN_VALUE, MAX_MEAN_VALUE, STEPS))\n",
    "means_cluster = clusters.map(lambda cluster : (cluster, random.sample(lst, dimension)))\n",
    "\n",
    "# creating random vector using normalVectorRDD \n",
    "random_values_vector = RandomRDDs.normalVectorRDD(sc, numRows = points, numCols = dimension, numPartitions = count_cluster, seed = 1)\n",
    "\n",
    "# assiging a random cluster for each point\n",
    "cluster_normal_values_vector = random_values_vector.map(lambda point : (random.randint(0, count_cluster - 1), point.tolist()))\n"
   ]
  },
  {
   "cell_type": "code",
   "execution_count": 2,
   "metadata": {},
   "outputs": [
    {
     "data": {
      "text/plain": [
       "[(1, [-0.7364417928926634, 1.1537268112805235]),\n",
       " (1, [0.46316657909752246, 1.7794324881133858]),\n",
       " (0, [0.35038251708418316, -1.2078422905234971]),\n",
       " (0, [0.9138119812917153, -0.24384354517716442]),\n",
       " (2, [-1.4870452542532624, 0.1495792190988491]),\n",
       " (0, [0.4917083148777912, 2.550920457799282]),\n",
       " (1, [0.6378880776065149, -0.7210538096192401]),\n",
       " (0, [-0.23706629033141421, -0.6287100897578689]),\n",
       " (2, [0.33124413745521336, -0.011228419005506252])]"
      ]
     },
     "execution_count": 2,
     "metadata": {},
     "output_type": "execute_result"
    }
   ],
   "source": [
    "cluster_normal_values_vector.collect()"
   ]
  },
  {
   "cell_type": "code",
   "execution_count": 3,
   "metadata": {},
   "outputs": [
    {
     "data": {
      "text/plain": [
       "[(0, ([0.46316657909752246, 1.7794324881133858], [36.0, 29.5])),\n",
       " (0, ([0.9138119812917153, -0.24384354517716442], [36.0, 29.5])),\n",
       " (0, ([-1.4870452542532624, 0.1495792190988491], [36.0, 29.5])),\n",
       " (0, ([0.6378880776065149, -0.7210538096192401], [36.0, 29.5])),\n",
       " (1, ([-0.7364417928926634, 1.1537268112805235], [31.1, 61.900000000000006])),\n",
       " (1,\n",
       "  ([-0.23706629033141421, -0.6287100897578689], [31.1, 61.900000000000006])),\n",
       " (2, ([0.35038251708418316, -1.2078422905234971], [48.1, 52.400000000000006])),\n",
       " (2, ([0.4917083148777912, 2.550920457799282], [48.1, 52.400000000000006])),\n",
       " (2,\n",
       "  ([0.33124413745521336, -0.011228419005506252], [48.1, 52.400000000000006]))]"
      ]
     },
     "execution_count": 3,
     "metadata": {},
     "output_type": "execute_result"
    }
   ],
   "source": [
    "points_value_vector = cluster_normal_values_vector.join(means_cluster)\n",
    "points_value_vector.collect()"
   ]
  },
  {
   "cell_type": "code",
   "execution_count": 4,
   "metadata": {},
   "outputs": [
    {
     "data": {
      "text/plain": [
       "PythonRDD[12] at RDD at PythonRDD.scala:53"
      ]
     },
     "execution_count": 4,
     "metadata": {},
     "output_type": "execute_result"
    }
   ],
   "source": [
    "points_value_vector.map(lambda x: point_values(x[1][0], x[1][1], std, x[0], dimension))"
   ]
  },
  {
   "cell_type": "code",
   "execution_count": 12,
   "metadata": {},
   "outputs": [],
   "source": [
    "points_value_vector.saveAsTextFile(file_name)"
   ]
  },
  {
   "cell_type": "code",
   "execution_count": 10,
   "metadata": {},
   "outputs": [
    {
     "data": {
      "text/plain": [
       "[(0, ([0.46316657909752246, 1.7794324881133858], [36.0, 29.5])),\n",
       " (0, ([0.9138119812917153, -0.24384354517716442], [36.0, 29.5])),\n",
       " (0, ([-1.4870452542532624, 0.1495792190988491], [36.0, 29.5])),\n",
       " (0, ([0.6378880776065149, -0.7210538096192401], [36.0, 29.5])),\n",
       " (1, ([-0.7364417928926634, 1.1537268112805235], [31.1, 61.900000000000006])),\n",
       " (1,\n",
       "  ([-0.23706629033141421, -0.6287100897578689], [31.1, 61.900000000000006])),\n",
       " (2, ([0.35038251708418316, -1.2078422905234971], [48.1, 52.400000000000006])),\n",
       " (2, ([0.4917083148777912, 2.550920457799282], [48.1, 52.400000000000006])),\n",
       " (2,\n",
       "  ([0.33124413745521336, -0.011228419005506252], [48.1, 52.400000000000006]))]"
      ]
     },
     "execution_count": 10,
     "metadata": {},
     "output_type": "execute_result"
    }
   ],
   "source": [
    "points_value_vector.collect()"
   ]
  },
  {
   "cell_type": "code",
   "execution_count": null,
   "metadata": {},
   "outputs": [],
   "source": []
  },
  {
   "cell_type": "code",
   "execution_count": 102,
   "metadata": {},
   "outputs": [],
   "source": []
  },
  {
   "cell_type": "code",
   "execution_count": null,
   "metadata": {},
   "outputs": [],
   "source": []
  }
 ],
 "metadata": {
  "kernelspec": {
   "display_name": "Python 3",
   "language": "python",
   "name": "python3"
  },
  "language_info": {
   "codemirror_mode": {
    "name": "ipython",
    "version": 3
   },
   "file_extension": ".py",
   "mimetype": "text/x-python",
   "name": "python",
   "nbconvert_exporter": "python",
   "pygments_lexer": "ipython3",
   "version": "3.6.8"
  }
 },
 "nbformat": 4,
 "nbformat_minor": 2
}
