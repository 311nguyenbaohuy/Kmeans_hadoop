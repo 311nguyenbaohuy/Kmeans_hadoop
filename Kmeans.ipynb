{
 "cells": [
  {
   "cell_type": "code",
   "execution_count": 294,
   "metadata": {},
   "outputs": [],
   "source": [
    "import numpy as np\n",
    "import datetime\n",
    "import random\n",
    "\n",
    "from pyspark.mllib.random import RandomRDDs\n",
    "from pyspark import SparkContext\n",
    "import matplotlib.pyplot as plt"
   ]
  },
  {
   "cell_type": "code",
   "execution_count": 295,
   "metadata": {},
   "outputs": [],
   "source": [
    "def customSplit(row):\n",
    "    values = row[0]\n",
    "    index = row[1]\n",
    "    dataItems = values.split(',')\n",
    "    for i in range(len(dataItems) - 1):\n",
    "        dataItems[i] = float(dataItems[i])\n",
    "    return (index, dataItems)"
   ]
  },
  {
   "cell_type": "code",
   "execution_count": 296,
   "metadata": {},
   "outputs": [],
   "source": [
    "def loadData(path):\n",
    "    dataFromText = sc.textFile(path)\n",
    "    data = dataFromText.filter(lambda x: x is not None).filter(lambda x: x != \"\")\n",
    "    dataZipped = data.zipWithIndex()\n",
    "    return dataZipped.map(lambda x: customSplit(x))"
   ]
  },
  {
   "cell_type": "code",
   "execution_count": 297,
   "metadata": {},
   "outputs": [],
   "source": [
    "def initCentroids(data, numClusters):\n",
    "    sample = sc.parallelize(data.takeSample(False, numClusters))\n",
    "    centroids = sample.map(lambda point: point[1][:-1])\n",
    "    return centroids.zipWithIndex().map(lambda point: (point[1], point[0]))"
   ]
  },
  {
   "cell_type": "code",
   "execution_count": 298,
   "metadata": {},
   "outputs": [],
   "source": [
    "def assginToCluster(data, centroids):\n",
    "    # Calculate Cartesian product of centroids and data\n",
    "    cartesianData = centroids.cartesian(data)\n",
    "    cartesianDataDistances = cartesianData.map(lambda dataPoint: calculateDistance(dataPoint[0], dataPoint[1]))\n",
    "    dataMinDistance = cartesianDataDistances.groupByKey().map(lambda x: (x[0], list(x[1]))).map(lambda row: minDist(row))\n",
    "    return dataMinDistance"
   ]
  },
  {
   "cell_type": "code",
   "execution_count": 299,
   "metadata": {},
   "outputs": [],
   "source": [
    "def calculateDistance(centroid, dataPoint):\n",
    "    list1 = centroid[1]\n",
    "    list2 = dataPoint[1][:-1]\n",
    "    array1 = np.array(list1)\n",
    "    array2 = np.array(list2)\n",
    "    dist = np.linalg.norm(array1-array2)\n",
    "    return (dataPoint[0], (centroid[0], dist))"
   ]
  },
  {
   "cell_type": "code",
   "execution_count": 300,
   "metadata": {},
   "outputs": [],
   "source": [
    "def minDist(row):\n",
    "    index = row[0]\n",
    "    lst = row[1]\n",
    "    minDist = float('inf')\n",
    "    minPoint = None\n",
    "    for elem in lst:\n",
    "        centroidIndex = elem[0]\n",
    "        distance = elem[1]\n",
    "        if (distance < minDist):\n",
    "            minDist = distance\n",
    "            minPoint = (centroidIndex, distance)\n",
    "    return (index, minPoint)"
   ]
  },
  {
   "cell_type": "code",
   "execution_count": 301,
   "metadata": {},
   "outputs": [],
   "source": [
    "def reCalculating(iCentroid, clusterItems):\n",
    "    allLists = []\n",
    "    for element in clusterItems:\n",
    "        # element = ([5.4, 3.7, 1.5, 0.2, 'Iris-setosa'], 3.7349698793966195)\n",
    "        allLists.append(element[0][:-1])\n",
    "    averageArray = list(np.average(allLists, axis=0))\n",
    "    newCenteroid = (iCentroid, averageArray)\n",
    "    return newCenteroid"
   ]
  },
  {
   "cell_type": "code",
   "execution_count": 326,
   "metadata": {},
   "outputs": [],
   "source": [
    "def computeCentroids(dataMinDistance):\n",
    "    databyCluster = dataMinDistance.join(data).map(lambda x: (x[1][0][0], (x[1][1], x[1][0][1])))\n",
    "    databyCluster = databyCluster.groupByKey().map(lambda data: (data[0], list(data[1])))\n",
    "    return databyCluster.map(lambda x: reCalculating(x[0], x[1]))"
   ]
  },
  {
   "cell_type": "code",
   "execution_count": 360,
   "metadata": {},
   "outputs": [],
   "source": [
    "def hasConverged(centroids, newCentroids):\n",
    "    centroidsData = centroids.join(newCentroids)\n",
    "    centroidsDataBool = centroidsData.map(lambda cluster: cluster[1][0] == cluster[1][1])\n",
    "    return all(item == True for item in centroidsDataBool.collect())"
   ]
  },
  {
   "cell_type": "code",
   "execution_count": 303,
   "metadata": {},
   "outputs": [],
   "source": [
    "sc = SparkContext(\"local\", \"generator\")"
   ]
  },
  {
   "cell_type": "code",
   "execution_count": 367,
   "metadata": {},
   "outputs": [],
   "source": [
    "data = loadData('data/iris_clustering.dat')"
   ]
  },
  {
   "cell_type": "code",
   "execution_count": 368,
   "metadata": {},
   "outputs": [
    {
     "data": {
      "text/plain": [
       "[(0, [5.1, 3.5, 1.4, 0.2, 'Iris-setosa']),\n",
       " (1, [4.9, 3.0, 1.4, 0.2, 'Iris-setosa']),\n",
       " (2, [4.7, 3.2, 1.3, 0.2, 'Iris-setosa']),\n",
       " (3, [4.6, 3.1, 1.5, 0.2, 'Iris-setosa']),\n",
       " (4, [5.0, 3.6, 1.4, 0.2, 'Iris-setosa']),\n",
       " (5, [5.4, 3.9, 1.7, 0.4, 'Iris-setosa']),\n",
       " (6, [4.6, 3.4, 1.4, 0.3, 'Iris-setosa']),\n",
       " (7, [5.0, 3.4, 1.5, 0.2, 'Iris-setosa']),\n",
       " (8, [4.4, 2.9, 1.4, 0.2, 'Iris-setosa']),\n",
       " (9, [4.9, 3.1, 1.5, 0.1, 'Iris-setosa']),\n",
       " (10, [5.4, 3.7, 1.5, 0.2, 'Iris-setosa']),\n",
       " (11, [4.8, 3.4, 1.6, 0.2, 'Iris-setosa']),\n",
       " (12, [4.8, 3.0, 1.4, 0.1, 'Iris-setosa']),\n",
       " (13, [4.3, 3.0, 1.1, 0.1, 'Iris-setosa']),\n",
       " (14, [5.8, 4.0, 1.2, 0.2, 'Iris-setosa']),\n",
       " (15, [5.7, 4.4, 1.5, 0.4, 'Iris-setosa']),\n",
       " (16, [5.4, 3.9, 1.3, 0.4, 'Iris-setosa']),\n",
       " (17, [5.1, 3.5, 1.4, 0.3, 'Iris-setosa']),\n",
       " (18, [5.7, 3.8, 1.7, 0.3, 'Iris-setosa']),\n",
       " (19, [5.1, 3.8, 1.5, 0.3, 'Iris-setosa']),\n",
       " (20, [5.4, 3.4, 1.7, 0.2, 'Iris-setosa']),\n",
       " (21, [5.1, 3.7, 1.5, 0.4, 'Iris-setosa']),\n",
       " (22, [4.6, 3.6, 1.0, 0.2, 'Iris-setosa']),\n",
       " (23, [5.1, 3.3, 1.7, 0.5, 'Iris-setosa']),\n",
       " (24, [4.8, 3.4, 1.9, 0.2, 'Iris-setosa']),\n",
       " (25, [5.0, 3.0, 1.6, 0.2, 'Iris-setosa']),\n",
       " (26, [5.0, 3.4, 1.6, 0.4, 'Iris-setosa']),\n",
       " (27, [5.2, 3.5, 1.5, 0.2, 'Iris-setosa']),\n",
       " (28, [5.2, 3.4, 1.4, 0.2, 'Iris-setosa']),\n",
       " (29, [4.7, 3.2, 1.6, 0.2, 'Iris-setosa']),\n",
       " (30, [4.8, 3.1, 1.6, 0.2, 'Iris-setosa']),\n",
       " (31, [5.4, 3.4, 1.5, 0.4, 'Iris-setosa']),\n",
       " (32, [5.2, 4.1, 1.5, 0.1, 'Iris-setosa']),\n",
       " (33, [5.5, 4.2, 1.4, 0.2, 'Iris-setosa']),\n",
       " (34, [4.9, 3.1, 1.5, 0.1, 'Iris-setosa']),\n",
       " (35, [5.0, 3.2, 1.2, 0.2, 'Iris-setosa']),\n",
       " (36, [5.5, 3.5, 1.3, 0.2, 'Iris-setosa']),\n",
       " (37, [4.9, 3.1, 1.5, 0.1, 'Iris-setosa']),\n",
       " (38, [4.4, 3.0, 1.3, 0.2, 'Iris-setosa']),\n",
       " (39, [5.1, 3.4, 1.5, 0.2, 'Iris-setosa']),\n",
       " (40, [5.0, 3.5, 1.3, 0.3, 'Iris-setosa']),\n",
       " (41, [4.5, 2.3, 1.3, 0.3, 'Iris-setosa']),\n",
       " (42, [4.4, 3.2, 1.3, 0.2, 'Iris-setosa']),\n",
       " (43, [5.0, 3.5, 1.6, 0.6, 'Iris-setosa']),\n",
       " (44, [5.1, 3.8, 1.9, 0.4, 'Iris-setosa']),\n",
       " (45, [4.8, 3.0, 1.4, 0.3, 'Iris-setosa']),\n",
       " (46, [5.1, 3.8, 1.6, 0.2, 'Iris-setosa']),\n",
       " (47, [4.6, 3.2, 1.4, 0.2, 'Iris-setosa']),\n",
       " (48, [5.3, 3.7, 1.5, 0.2, 'Iris-setosa']),\n",
       " (49, [5.0, 3.3, 1.4, 0.2, 'Iris-setosa']),\n",
       " (50, [7.0, 3.2, 4.7, 1.4, 'Iris-versicolor']),\n",
       " (51, [6.4, 3.2, 4.5, 1.5, 'Iris-versicolor']),\n",
       " (52, [6.9, 3.1, 4.9, 1.5, 'Iris-versicolor']),\n",
       " (53, [5.5, 2.3, 4.0, 1.3, 'Iris-versicolor']),\n",
       " (54, [6.5, 2.8, 4.6, 1.5, 'Iris-versicolor']),\n",
       " (55, [5.7, 2.8, 4.5, 1.3, 'Iris-versicolor']),\n",
       " (56, [6.3, 3.3, 4.7, 1.6, 'Iris-versicolor']),\n",
       " (57, [4.9, 2.4, 3.3, 1.0, 'Iris-versicolor']),\n",
       " (58, [6.6, 2.9, 4.6, 1.3, 'Iris-versicolor']),\n",
       " (59, [5.2, 2.7, 3.9, 1.4, 'Iris-versicolor']),\n",
       " (60, [5.0, 2.0, 3.5, 1.0, 'Iris-versicolor']),\n",
       " (61, [5.9, 3.0, 4.2, 1.5, 'Iris-versicolor']),\n",
       " (62, [6.0, 2.2, 4.0, 1.0, 'Iris-versicolor']),\n",
       " (63, [6.1, 2.9, 4.7, 1.4, 'Iris-versicolor']),\n",
       " (64, [5.6, 2.9, 3.6, 1.3, 'Iris-versicolor']),\n",
       " (65, [6.7, 3.1, 4.4, 1.4, 'Iris-versicolor']),\n",
       " (66, [5.6, 3.0, 4.5, 1.5, 'Iris-versicolor']),\n",
       " (67, [5.8, 2.7, 4.1, 1.0, 'Iris-versicolor']),\n",
       " (68, [6.2, 2.2, 4.5, 1.5, 'Iris-versicolor']),\n",
       " (69, [5.6, 2.5, 3.9, 1.1, 'Iris-versicolor']),\n",
       " (70, [5.9, 3.2, 4.8, 1.8, 'Iris-versicolor']),\n",
       " (71, [6.1, 2.8, 4.0, 1.3, 'Iris-versicolor']),\n",
       " (72, [6.3, 2.5, 4.9, 1.5, 'Iris-versicolor']),\n",
       " (73, [6.1, 2.8, 4.7, 1.2, 'Iris-versicolor']),\n",
       " (74, [6.4, 2.9, 4.3, 1.3, 'Iris-versicolor']),\n",
       " (75, [6.6, 3.0, 4.4, 1.4, 'Iris-versicolor']),\n",
       " (76, [6.8, 2.8, 4.8, 1.4, 'Iris-versicolor']),\n",
       " (77, [6.7, 3.0, 5.0, 1.7, 'Iris-versicolor']),\n",
       " (78, [6.0, 2.9, 4.5, 1.5, 'Iris-versicolor']),\n",
       " (79, [5.7, 2.6, 3.5, 1.0, 'Iris-versicolor']),\n",
       " (80, [5.5, 2.4, 3.8, 1.1, 'Iris-versicolor']),\n",
       " (81, [5.5, 2.4, 3.7, 1.0, 'Iris-versicolor']),\n",
       " (82, [5.8, 2.7, 3.9, 1.2, 'Iris-versicolor']),\n",
       " (83, [6.0, 2.7, 5.1, 1.6, 'Iris-versicolor']),\n",
       " (84, [5.4, 3.0, 4.5, 1.5, 'Iris-versicolor']),\n",
       " (85, [6.0, 3.4, 4.5, 1.6, 'Iris-versicolor']),\n",
       " (86, [6.7, 3.1, 4.7, 1.5, 'Iris-versicolor']),\n",
       " (87, [6.3, 2.3, 4.4, 1.3, 'Iris-versicolor']),\n",
       " (88, [5.6, 3.0, 4.1, 1.3, 'Iris-versicolor']),\n",
       " (89, [5.5, 2.5, 4.0, 1.3, 'Iris-versicolor']),\n",
       " (90, [5.5, 2.6, 4.4, 1.2, 'Iris-versicolor']),\n",
       " (91, [6.1, 3.0, 4.6, 1.4, 'Iris-versicolor']),\n",
       " (92, [5.8, 2.6, 4.0, 1.2, 'Iris-versicolor']),\n",
       " (93, [5.0, 2.3, 3.3, 1.0, 'Iris-versicolor']),\n",
       " (94, [5.6, 2.7, 4.2, 1.3, 'Iris-versicolor']),\n",
       " (95, [5.7, 3.0, 4.2, 1.2, 'Iris-versicolor']),\n",
       " (96, [5.7, 2.9, 4.2, 1.3, 'Iris-versicolor']),\n",
       " (97, [6.2, 2.9, 4.3, 1.3, 'Iris-versicolor']),\n",
       " (98, [5.1, 2.5, 3.0, 1.1, 'Iris-versicolor']),\n",
       " (99, [5.7, 2.8, 4.1, 1.3, 'Iris-versicolor']),\n",
       " (100, [6.3, 3.3, 6.0, 2.5, 'Iris-virginica']),\n",
       " (101, [5.8, 2.7, 5.1, 1.9, 'Iris-virginica']),\n",
       " (102, [7.1, 3.0, 5.9, 2.1, 'Iris-virginica']),\n",
       " (103, [6.3, 2.9, 5.6, 1.8, 'Iris-virginica']),\n",
       " (104, [6.5, 3.0, 5.8, 2.2, 'Iris-virginica']),\n",
       " (105, [7.6, 3.0, 6.6, 2.1, 'Iris-virginica']),\n",
       " (106, [4.9, 2.5, 4.5, 1.7, 'Iris-virginica']),\n",
       " (107, [7.3, 2.9, 6.3, 1.8, 'Iris-virginica']),\n",
       " (108, [6.7, 2.5, 5.8, 1.8, 'Iris-virginica']),\n",
       " (109, [7.2, 3.6, 6.1, 2.5, 'Iris-virginica']),\n",
       " (110, [6.5, 3.2, 5.1, 2.0, 'Iris-virginica']),\n",
       " (111, [6.4, 2.7, 5.3, 1.9, 'Iris-virginica']),\n",
       " (112, [6.8, 3.0, 5.5, 2.1, 'Iris-virginica']),\n",
       " (113, [5.7, 2.5, 5.0, 2.0, 'Iris-virginica']),\n",
       " (114, [5.8, 2.8, 5.1, 2.4, 'Iris-virginica']),\n",
       " (115, [6.4, 3.2, 5.3, 2.3, 'Iris-virginica']),\n",
       " (116, [6.5, 3.0, 5.5, 1.8, 'Iris-virginica']),\n",
       " (117, [7.7, 3.8, 6.7, 2.2, 'Iris-virginica']),\n",
       " (118, [7.7, 2.6, 6.9, 2.3, 'Iris-virginica']),\n",
       " (119, [6.0, 2.2, 5.0, 1.5, 'Iris-virginica']),\n",
       " (120, [6.9, 3.2, 5.7, 2.3, 'Iris-virginica']),\n",
       " (121, [5.6, 2.8, 4.9, 2.0, 'Iris-virginica']),\n",
       " (122, [7.7, 2.8, 6.7, 2.0, 'Iris-virginica']),\n",
       " (123, [6.3, 2.7, 4.9, 1.8, 'Iris-virginica']),\n",
       " (124, [6.7, 3.3, 5.7, 2.1, 'Iris-virginica']),\n",
       " (125, [7.2, 3.2, 6.0, 1.8, 'Iris-virginica']),\n",
       " (126, [6.2, 2.8, 4.8, 1.8, 'Iris-virginica']),\n",
       " (127, [6.1, 3.0, 4.9, 1.8, 'Iris-virginica']),\n",
       " (128, [6.4, 2.8, 5.6, 2.1, 'Iris-virginica']),\n",
       " (129, [7.2, 3.0, 5.8, 1.6, 'Iris-virginica']),\n",
       " (130, [7.4, 2.8, 6.1, 1.9, 'Iris-virginica']),\n",
       " (131, [7.9, 3.8, 6.4, 2.0, 'Iris-virginica']),\n",
       " (132, [6.4, 2.8, 5.6, 2.2, 'Iris-virginica']),\n",
       " (133, [6.3, 2.8, 5.1, 1.5, 'Iris-virginica']),\n",
       " (134, [6.1, 2.6, 5.6, 1.4, 'Iris-virginica']),\n",
       " (135, [7.7, 3.0, 6.1, 2.3, 'Iris-virginica']),\n",
       " (136, [6.3, 3.4, 5.6, 2.4, 'Iris-virginica']),\n",
       " (137, [6.4, 3.1, 5.5, 1.8, 'Iris-virginica']),\n",
       " (138, [6.0, 3.0, 4.8, 1.8, 'Iris-virginica']),\n",
       " (139, [6.9, 3.1, 5.4, 2.1, 'Iris-virginica']),\n",
       " (140, [6.7, 3.1, 5.6, 2.4, 'Iris-virginica']),\n",
       " (141, [6.9, 3.1, 5.1, 2.3, 'Iris-virginica']),\n",
       " (142, [5.8, 2.7, 5.1, 1.9, 'Iris-virginica']),\n",
       " (143, [6.8, 3.2, 5.9, 2.3, 'Iris-virginica']),\n",
       " (144, [6.7, 3.3, 5.7, 2.5, 'Iris-virginica']),\n",
       " (145, [6.7, 3.0, 5.2, 2.3, 'Iris-virginica']),\n",
       " (146, [6.3, 2.5, 5.0, 1.9, 'Iris-virginica']),\n",
       " (147, [6.5, 3.0, 5.2, 2.0, 'Iris-virginica']),\n",
       " (148, [6.2, 3.4, 5.4, 2.3, 'Iris-virginica']),\n",
       " (149, [5.9, 3.0, 5.1, 1.8, 'Iris-virginica'])]"
      ]
     },
     "execution_count": 368,
     "metadata": {},
     "output_type": "execute_result"
    }
   ],
   "source": [
    "data.collect()"
   ]
  },
  {
   "cell_type": "code",
   "execution_count": 369,
   "metadata": {},
   "outputs": [],
   "source": [
    "centroids = initCentroids(data, 3)"
   ]
  },
  {
   "cell_type": "code",
   "execution_count": 370,
   "metadata": {},
   "outputs": [
    {
     "data": {
      "text/plain": [
       "[(0, [7.7, 2.6, 6.9, 2.3]),\n",
       " (1, [5.0, 2.0, 3.5, 1.0]),\n",
       " (2, [6.7, 3.3, 5.7, 2.5])]"
      ]
     },
     "execution_count": 370,
     "metadata": {},
     "output_type": "execute_result"
    }
   ],
   "source": [
    "centroids.collect()"
   ]
  },
  {
   "cell_type": "code",
   "execution_count": 371,
   "metadata": {},
   "outputs": [
    {
     "name": "stdout",
     "output_type": "stream",
     "text": [
      "Elapsed time: 0:01:35.040637\n",
      "Number of iterations: 8\n"
     ]
    }
   ],
   "source": [
    "iterations = 0\n",
    "startTime = datetime.datetime.now()\n",
    "\n",
    "while True:\n",
    "    iterations = iterations + 1\n",
    "    dataMinDistance = assginToCluster(data, centroids)\n",
    "    newCenteroids = computeCentroids(dataMinDistance)\n",
    "    \n",
    "    if hasConverged(centroids, newCenteroids):\n",
    "        break;\n",
    "    centroids = sc.parallelize(newCenteroids.collect())\n",
    "\n",
    "endTime = datetime.datetime.now()\n",
    "\n",
    "print(\"Elapsed time: \" + str(endTime - startTime))\n",
    "print(\"Number of iterations: \" + str(iterations))"
   ]
  },
  {
   "cell_type": "code",
   "execution_count": 372,
   "metadata": {},
   "outputs": [
    {
     "data": {
      "text/plain": [
       "[(2,\n",
       "  [5.901612903225807,\n",
       "   2.748387096774194,\n",
       "   4.393548387096774,\n",
       "   1.4338709677419348]),\n",
       " (0,\n",
       "  [6.849999999999999,\n",
       "   3.073684210526315,\n",
       "   5.742105263157894,\n",
       "   2.071052631578947]),\n",
       " (1, [5.005999999999999, 3.418, 1.4640000000000006, 0.24399999999999994])]"
      ]
     },
     "execution_count": 372,
     "metadata": {},
     "output_type": "execute_result"
    }
   ],
   "source": [
    "centroids.collect()"
   ]
  },
  {
   "cell_type": "code",
   "execution_count": 373,
   "metadata": {},
   "outputs": [],
   "source": [
    "sc.stop()"
   ]
  },
  {
   "cell_type": "code",
   "execution_count": null,
   "metadata": {},
   "outputs": [],
   "source": []
  }
 ],
 "metadata": {
  "kernelspec": {
   "display_name": "Python 3",
   "language": "python",
   "name": "python3"
  },
  "language_info": {
   "codemirror_mode": {
    "name": "ipython",
    "version": 3
   },
   "file_extension": ".py",
   "mimetype": "text/x-python",
   "name": "python",
   "nbconvert_exporter": "python",
   "pygments_lexer": "ipython3",
   "version": "3.6.8"
  }
 },
 "nbformat": 4,
 "nbformat_minor": 2
}
