{
 "cells": [
  {
   "cell_type": "code",
   "execution_count": 20,
   "metadata": {},
   "outputs": [],
   "source": [
    "import random\n",
    "import numpy\n",
    "\n",
    "from pyspark import SparkContext\n",
    "from pyspark.mllib.random import RandomRDDs\n",
    "# constants\n",
    "MIN_MEAN_VALUE = 0\n",
    "MAX_MEAN_VALUE = 100\n",
    "STEPS = 0.1\n"
   ]
  },
  {
   "cell_type": "code",
   "execution_count": 42,
   "metadata": {},
   "outputs": [],
   "source": [
    "# methods\n",
    "def noise_values(values):\n",
    "    result = \"\"\n",
    "    cluster = random.randint(0, count_cluster - 1)\n",
    "    cluster = count_cluster\n",
    "    for v in values:\n",
    "        if not result:\n",
    "            result = str(v)\n",
    "        else:\n",
    "            result = result + \",\" + str(v)\n",
    "    return (result + \",\" + str(cluster))\n"
   ]
  },
  {
   "cell_type": "code",
   "execution_count": 4,
   "metadata": {},
   "outputs": [],
   "source": [
    "\n",
    "def point_values(means_value, normal_value, std, cluster, dimension):\n",
    "    values = \"\"\n",
    "    for d in range(dimension):\n",
    "        value = means_value[d] + normal_value[d] * std\n",
    "        if not values:\n",
    "            values = str(value)\n",
    "        else:\n",
    "            values = values + \",\" + str(value)\n",
    "    return (values + \",\" + str(cluster))\n"
   ]
  },
  {
   "cell_type": "code",
   "execution_count": 37,
   "metadata": {},
   "outputs": [],
   "source": [
    "def write_into_csv(file_name, rdd): \n",
    "    with open(file_name,'wb') as file:\n",
    "        for row in rdd.collect():\n",
    "            file.write(row.encode())\n",
    "            file.write('\\n'.encode())"
   ]
  },
  {
   "cell_type": "code",
   "execution_count": 10,
   "metadata": {},
   "outputs": [],
   "source": [
    "# inputs\n",
    "file_name = \"out\" + '.csv'  # file name to be generated\n",
    "points = 9 # number of points to be generated\n",
    "count_cluster = 3 # number of clusters\n",
    "dimension = 2 # dimension of the data\n",
    "std = 1 # standard deviation\n",
    "noise_points = points * 2 # number of noise points to be generated / double the number of points\n",
    "file_name_noise ='out-noise.csv' # file name for noise points to be generated\n",
    "\n",
    "sc = SparkContext(\"local\", \"generator_noise\") # spark context"
   ]
  },
  {
   "cell_type": "code",
   "execution_count": 11,
   "metadata": {},
   "outputs": [],
   "source": [
    "# array of the clusters : clusters = [0, 1, 2]\n",
    "clusters = sc.parallelize(range(0, count_cluster))"
   ]
  },
  {
   "cell_type": "code",
   "execution_count": 21,
   "metadata": {},
   "outputs": [],
   "source": [
    "# random means of each cluster : means_cluster = [ (0, [0.6, 80.9]), (1, [57.8, 20.2]), (2, [15.6, 49.9]) ]\n",
    "lst = list(numpy.arange(MIN_MEAN_VALUE, MAX_MEAN_VALUE, STEPS))\n",
    "means_cluster = clusters.map(lambda cluster : (cluster, random.sample(lst, dimension)))"
   ]
  },
  {
   "cell_type": "code",
   "execution_count": 22,
   "metadata": {},
   "outputs": [],
   "source": [
    "# creating random vector using normalVectorRDD \n",
    "random_values_vector = RandomRDDs.normalVectorRDD(sc, numRows = points, numCols = dimension, numPartitions = count_cluster, seed = 1)"
   ]
  },
  {
   "cell_type": "code",
   "execution_count": 23,
   "metadata": {},
   "outputs": [],
   "source": [
    "# assiging a random cluster for each point\n",
    "cluster_normal_values_vector = random_values_vector.map(lambda point : (random.randint(0, count_cluster - 1), point.tolist()))"
   ]
  },
  {
   "cell_type": "code",
   "execution_count": 25,
   "metadata": {},
   "outputs": [
    {
     "data": {
      "text/plain": [
       "['52.66316657909753,84.27943248811339,0',\n",
       " '52.55038251708419,81.2921577094765,0',\n",
       " '83.46355820710734,14.353726811280524,1',\n",
       " '84.6917083148778,15.750920457799284,1',\n",
       " '84.83788807760652,12.47894619038076,1',\n",
       " '83.96293370966859,12.571289910242132,1',\n",
       " '14.313811981291716,34.35615645482284,2',\n",
       " '11.912954745746738,34.74957921909885,2',\n",
       " '13.731244137455214,34.588771580994496,2']"
      ]
     },
     "execution_count": 25,
     "metadata": {},
     "output_type": "execute_result"
    }
   ],
   "source": [
    "# generate a value depending of the mean of the cluster, standard deviation and the normal value \n",
    "points_value_vector = cluster_normal_values_vector.join(means_cluster).map(lambda x: point_values(x[1][0], x[1][1], std, x[0], dimension))\n",
    "\n",
    "points_value_vector.collect()"
   ]
  },
  {
   "cell_type": "code",
   "execution_count": 43,
   "metadata": {},
   "outputs": [
    {
     "data": {
      "text/plain": [
       "['29.700000000000003,92.30000000000001,3',\n",
       " '58.2,86.7,3',\n",
       " '58.2,86.7,3',\n",
       " '58.2,86.7,3',\n",
       " '58.2,86.7,3',\n",
       " '58.2,86.7,3',\n",
       " '58.2,86.7,3',\n",
       " '58.2,86.7,3',\n",
       " '58.2,86.7,3',\n",
       " '58.2,86.7,3',\n",
       " '58.2,86.7,3',\n",
       " '58.2,86.7,3',\n",
       " '58.2,86.7,3',\n",
       " '58.2,86.7,3',\n",
       " '58.2,86.7,3',\n",
       " '58.2,86.7,3',\n",
       " '58.2,86.7,3',\n",
       " '58.2,86.7,3']"
      ]
     },
     "execution_count": 43,
     "metadata": {},
     "output_type": "execute_result"
    }
   ],
   "source": [
    "# generate random points that represent noise points\n",
    "lst = list(numpy.arange(MIN_MEAN_VALUE, MAX_MEAN_VALUE, STEPS))\n",
    "noise_points_vector = sc.parallelize(range(0, noise_points)).map(lambda x : random.sample(lst, dimension)).map(lambda v: noise_values(v))\n",
    "        \n",
    "# noise_points_vector = noise_points_vector.map(lambda row : str(row).replace(\"[\", \"\").replace(\"]\",\"\"))\n",
    "noise_points_vector.collect()"
   ]
  },
  {
   "cell_type": "code",
   "execution_count": 44,
   "metadata": {},
   "outputs": [
    {
     "data": {
      "text/plain": [
       "['52.66316657909753,84.27943248811339,0',\n",
       " '52.55038251708419,81.2921577094765,0',\n",
       " '83.46355820710734,14.353726811280524,1',\n",
       " '84.6917083148778,15.750920457799284,1',\n",
       " '84.83788807760652,12.47894619038076,1',\n",
       " '83.96293370966859,12.571289910242132,1',\n",
       " '14.313811981291716,34.35615645482284,2',\n",
       " '11.912954745746738,34.74957921909885,2',\n",
       " '13.731244137455214,34.588771580994496,2',\n",
       " '61.7,84.10000000000001,3',\n",
       " '58.2,86.7,3',\n",
       " '58.2,86.7,3',\n",
       " '58.2,86.7,3',\n",
       " '58.2,86.7,3',\n",
       " '58.2,86.7,3',\n",
       " '58.2,86.7,3',\n",
       " '58.2,86.7,3',\n",
       " '58.2,86.7,3',\n",
       " '58.2,86.7,3',\n",
       " '58.2,86.7,3',\n",
       " '58.2,86.7,3',\n",
       " '58.2,86.7,3',\n",
       " '58.2,86.7,3',\n",
       " '58.2,86.7,3',\n",
       " '58.2,86.7,3',\n",
       " '58.2,86.7,3',\n",
       " '58.2,86.7,3']"
      ]
     },
     "execution_count": 44,
     "metadata": {},
     "output_type": "execute_result"
    }
   ],
   "source": [
    "data = points_value_vector.union(noise_points_vector)\n",
    "\n",
    "data.collect()"
   ]
  },
  {
   "cell_type": "code",
   "execution_count": 41,
   "metadata": {},
   "outputs": [],
   "source": [
    "# writing points value in a 1 csv file\n",
    "write_into_csv(file_name, points_value_vector);\n",
    "\n",
    "# saving noise points generated into a file\n",
    "write_into_csv(file_name_noise, noise_points_vector);"
   ]
  },
  {
   "cell_type": "code",
   "execution_count": 9,
   "metadata": {},
   "outputs": [],
   "source": [
    "sc.stop()"
   ]
  },
  {
   "cell_type": "code",
   "execution_count": null,
   "metadata": {},
   "outputs": [],
   "source": []
  }
 ],
 "metadata": {
  "kernelspec": {
   "display_name": "Python 3",
   "language": "python",
   "name": "python3"
  },
  "language_info": {
   "codemirror_mode": {
    "name": "ipython",
    "version": 3
   },
   "file_extension": ".py",
   "mimetype": "text/x-python",
   "name": "python",
   "nbconvert_exporter": "python",
   "pygments_lexer": "ipython3",
   "version": "3.6.8"
  }
 },
 "nbformat": 4,
 "nbformat_minor": 2
}
